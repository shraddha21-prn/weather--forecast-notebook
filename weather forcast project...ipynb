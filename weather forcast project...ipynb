{
 "cells": [
  {
   "cell_type": "code",
   "execution_count": 6,
   "id": "aeb8d927-3eb3-48e2-ab7f-383fd824da3a",
   "metadata": {},
   "outputs": [
    {
     "name": "stdout",
     "output_type": "stream",
     "text": [
      "Requirement already satisfied: requests in c:\\users\\shrad\\anaconda3\\lib\\site-packages (2.32.2)\n",
      "Requirement already satisfied: scikit-learn in c:\\users\\shrad\\anaconda3\\lib\\site-packages (1.4.2)\n",
      "Requirement already satisfied: pandas in c:\\users\\shrad\\anaconda3\\lib\\site-packages (2.2.2)\n",
      "Requirement already satisfied: numpy in c:\\users\\shrad\\anaconda3\\lib\\site-packages (1.26.4)\n",
      "Requirement already satisfied: joblib in c:\\users\\shrad\\anaconda3\\lib\\site-packages (1.4.2)\n",
      "Requirement already satisfied: charset-normalizer<4,>=2 in c:\\users\\shrad\\anaconda3\\lib\\site-packages (from requests) (2.0.4)\n",
      "Requirement already satisfied: idna<4,>=2.5 in c:\\users\\shrad\\anaconda3\\lib\\site-packages (from requests) (3.7)\n",
      "Requirement already satisfied: urllib3<3,>=1.21.1 in c:\\users\\shrad\\anaconda3\\lib\\site-packages (from requests) (2.2.2)\n",
      "Requirement already satisfied: certifi>=2017.4.17 in c:\\users\\shrad\\anaconda3\\lib\\site-packages (from requests) (2024.6.2)\n",
      "Requirement already satisfied: scipy>=1.6.0 in c:\\users\\shrad\\anaconda3\\lib\\site-packages (from scikit-learn) (1.13.1)\n",
      "Requirement already satisfied: threadpoolctl>=2.0.0 in c:\\users\\shrad\\anaconda3\\lib\\site-packages (from scikit-learn) (2.2.0)\n",
      "Requirement already satisfied: python-dateutil>=2.8.2 in c:\\users\\shrad\\anaconda3\\lib\\site-packages (from pandas) (2.9.0.post0)\n",
      "Requirement already satisfied: pytz>=2020.1 in c:\\users\\shrad\\anaconda3\\lib\\site-packages (from pandas) (2024.1)\n",
      "Requirement already satisfied: tzdata>=2022.7 in c:\\users\\shrad\\anaconda3\\lib\\site-packages (from pandas) (2023.3)\n",
      "Requirement already satisfied: six>=1.5 in c:\\users\\shrad\\anaconda3\\lib\\site-packages (from python-dateutil>=2.8.2->pandas) (1.16.0)\n",
      "Note: you may need to restart the kernel to use updated packages.\n"
     ]
    }
   ],
   "source": [
    "pip install requests scikit-learn pandas numpy joblib"
   ]
  },
  {
   "cell_type": "code",
   "execution_count": 7,
   "id": "b9f11b0a-e364-479a-8b83-ba1eb845bab6",
   "metadata": {},
   "outputs": [
    {
     "name": "stderr",
     "output_type": "stream",
     "text": [
      "DeprecationWarning: datetime.datetime.utcnow() is deprecated and scheduled for removal in a future version. Use timezone-aware objects to represent datetimes in UTC: datetime.datetime.now(datetime.UTC).\n"
     ]
    },
    {
     "ename": "KeyError",
     "evalue": "'name'",
     "output_type": "error",
     "traceback": [
      "\u001b[1;31m---------------------------------------------------------------------------\u001b[0m",
      "\u001b[1;31mKeyError\u001b[0m                                  Traceback (most recent call last)",
      "Cell \u001b[1;32mIn[7], line 47\u001b[0m\n\u001b[0;32m     45\u001b[0m \u001b[38;5;28;01mfor\u001b[39;00m days \u001b[38;5;129;01min\u001b[39;00m \u001b[38;5;28mrange\u001b[39m(\u001b[38;5;241m7\u001b[39m):\n\u001b[0;32m     46\u001b[0m     date \u001b[38;5;241m=\u001b[39m datetime\u001b[38;5;241m.\u001b[39mutcnow() \u001b[38;5;241m-\u001b[39m timedelta(days\u001b[38;5;241m=\u001b[39mdays\u001b[38;5;241m+\u001b[39m\u001b[38;5;241m1\u001b[39m)\n\u001b[1;32m---> 47\u001b[0m     df \u001b[38;5;241m=\u001b[39m get_historical_weather(coords, date, date)\n\u001b[0;32m     48\u001b[0m     \u001b[38;5;28;01mif\u001b[39;00m df \u001b[38;5;129;01mis\u001b[39;00m \u001b[38;5;129;01mnot\u001b[39;00m \u001b[38;5;28;01mNone\u001b[39;00m:\n\u001b[0;32m     49\u001b[0m         df[\u001b[38;5;124m\"\u001b[39m\u001b[38;5;124mcity\u001b[39m\u001b[38;5;124m\"\u001b[39m] \u001b[38;5;241m=\u001b[39m city  \u001b[38;5;66;03m# Add City Column\u001b[39;00m\n",
      "Cell \u001b[1;32mIn[7], line 21\u001b[0m, in \u001b[0;36mget_historical_weather\u001b[1;34m(city, start_date, end_date)\u001b[0m\n\u001b[0;32m     18\u001b[0m data \u001b[38;5;241m=\u001b[39m response\u001b[38;5;241m.\u001b[39mjson()\n\u001b[0;32m     20\u001b[0m \u001b[38;5;28;01mif\u001b[39;00m \u001b[38;5;124m\"\u001b[39m\u001b[38;5;124mhourly\u001b[39m\u001b[38;5;124m\"\u001b[39m \u001b[38;5;129;01mnot\u001b[39;00m \u001b[38;5;129;01min\u001b[39;00m data:\n\u001b[1;32m---> 21\u001b[0m     \u001b[38;5;28mprint\u001b[39m(\u001b[38;5;124mf\u001b[39m\u001b[38;5;124m\"\u001b[39m\u001b[38;5;124mNo data found for \u001b[39m\u001b[38;5;132;01m{\u001b[39;00mcity[\u001b[38;5;124m'\u001b[39m\u001b[38;5;124mname\u001b[39m\u001b[38;5;124m'\u001b[39m]\u001b[38;5;132;01m}\u001b[39;00m\u001b[38;5;124m on \u001b[39m\u001b[38;5;132;01m{\u001b[39;00mstart_date\u001b[38;5;132;01m}\u001b[39;00m\u001b[38;5;124m\"\u001b[39m)\n\u001b[0;32m     22\u001b[0m     \u001b[38;5;28;01mreturn\u001b[39;00m \u001b[38;5;28;01mNone\u001b[39;00m\n\u001b[0;32m     24\u001b[0m weather_data \u001b[38;5;241m=\u001b[39m []\n",
      "\u001b[1;31mKeyError\u001b[0m: 'name'"
     ]
    }
   ],
   "source": [
    "import requests\n",
    "import pandas as pd\n",
    "import numpy as np\n",
    "from datetime import datetime, timedelta\n",
    "from sklearn.model_selection import train_test_split\n",
    "from sklearn.ensemble import RandomForestRegressor\n",
    "from sklearn.metrics import mean_absolute_error\n",
    "import joblib\n",
    "\n",
    "# Your OpenWeatherMap API Key\n",
    "API_KEY = \"1573876b7b9629f4ec85517706ad8177\"\n",
    "\n",
    "# Function to Fetch Past Weather Data\n",
    "def get_historical_weather(city, start_date, end_date):\n",
    "    url = f\"http://api.openweathermap.org/data/2.5/onecall/timemachine?lat={city['lat']}&lon={city['lon']}&dt={int(start_date.timestamp())}&appid={API_KEY}&units=metric\"\n",
    "    \n",
    "    response = requests.get(url)\n",
    "    data = response.json()\n",
    "\n",
    "    if \"hourly\" not in data:\n",
    "        print(f\"No data found for {city['name']} on {start_date}\")\n",
    "        return None\n",
    "\n",
    "    weather_data = []\n",
    "    for hourly_data in data[\"hourly\"]:\n",
    "        weather_data.append({\n",
    "            \"date\": datetime.utcfromtimestamp(hourly_data[\"dt\"]).date(),\n",
    "            \"temp\": hourly_data[\"temp\"],\n",
    "            \"humidity\": hourly_data[\"humidity\"],\n",
    "            \"wind_speed\": hourly_data[\"wind_speed\"]\n",
    "        })\n",
    "\n",
    "    return pd.DataFrame(weather_data)\n",
    "\n",
    "# List of Cities with Latitude & Longitude\n",
    "cities = {\n",
    "    \"Pune\": {\"lat\": 18.5204, \"lon\": 73.8567},\n",
    "    \"Mumbai\": {\"lat\": 19.0760, \"lon\": 72.8777},\n",
    "    \"Delhi\": {\"lat\": 28.7041, \"lon\": 77.1025}\n",
    "}\n",
    "\n",
    "# Collect Weather Data for Multiple Cities (Past 7 Days)\n",
    "weather_frames = []\n",
    "for city, coords in cities.items():\n",
    "    for days in range(7):\n",
    "        date = datetime.utcnow() - timedelta(days=days+1)\n",
    "        df = get_historical_weather(coords, date, date)\n",
    "        if df is not None:\n",
    "            df[\"city\"] = city  # Add City Column\n",
    "            weather_frames.append(df)\n",
    "\n",
    "# Combine Data\n",
    "if weather_frames:\n",
    "    weather_df = pd.concat(weather_frames, ignore_index=True)\n",
    "    print(weather_df.head())\n",
    "else:\n",
    "    print(\"No data fetched. Check API key and connectivity.\")\n",
    "    exit()\n",
    "\n",
    "# Split Data into Features and Target\n",
    "X = weather_df[['humidity', 'wind_speed']]\n",
    "y = weather_df['temp']\n",
    "\n",
    "# Train-Test Split\n",
    "X_train, X_test, y_train, y_test = train_test_split(X, y, test_size=0.2, random_state=42)\n",
    "\n",
    "# Train Random Forest Model\n",
    "model = RandomForestRegressor(n_estimators=100, random_state=42)\n",
    "model.fit(X_train, y_train)\n",
    "\n",
    "# Evaluate Model\n",
    "predictions = model.predict(X_test)\n",
    "mae = mean_absolute_error(y_test, predictions)\n",
    "print(f\"Model MAE: {mae:.2f}°C\")  # Lower MAE = Better Model\n",
    "\n",
    "# Save Model\n",
    "joblib.dump(model, 'weather_model.pkl')\n",
    "print(\"Model trained and saved as 'weather_model.pkl'\")"
   ]
  },
  {
   "cell_type": "code",
   "execution_count": null,
   "id": "386b2a3d-83ae-46b9-b7ff-de9465915284",
   "metadata": {},
   "outputs": [],
   "source": [
    "H9G4MQB6VYXWHCWRSUWUZUCQN\n",
    "\n"
   ]
  },
  {
   "cell_type": "code",
   "execution_count": 1,
   "id": "86ea9342-146c-470d-9476-f6badcb9a4bb",
   "metadata": {},
   "outputs": [
    {
     "name": "stdin",
     "output_type": "stream",
     "text": [
      "Enter city names separated by commas:  kolkata\n"
     ]
    },
    {
     "name": "stdout",
     "output_type": "stream",
     "text": [
      "Weather data saved to weather_data.csv\n",
      "      city        date  tempmax  tempmin  humidity  windspeed\n",
      "0  kolkata  2025-03-28     40.0     28.0      43.7       14.8\n",
      "1  kolkata  2025-03-29     41.0     25.2      42.4       17.3\n",
      "2  kolkata  2025-03-30     39.8     25.0      54.0       26.6\n",
      "3  kolkata  2025-03-31     37.5     24.5      59.7       29.2\n"
     ]
    }
   ],
   "source": [
    "import pandas as pd\n",
    "import requests\n",
    "from datetime import datetime, timedelta\n",
    "\n",
    "# Function to fetch weather data\n",
    "def fetch_weather(city):\n",
    "    base_url = \"https://weather.visualcrossing.com/VisualCrossingWebServices/rest/services/timeline\"\n",
    "    api_key = \"H9G4MQB6VYXWHCWRSUWUZUCQN\"  # Replace with your actual API key\n",
    "\n",
    "    # Define the date range (yesterday to +2 days)\n",
    "    start_date = (datetime.now() - timedelta(days=1)).strftime(\"%Y-%m-%d\")\n",
    "    end_date = (datetime.now() + timedelta(days=2)).strftime(\"%Y-%m-%d\")\n",
    "\n",
    "    url = f\"{base_url}/{city}/{start_date}/{end_date}?unitGroup=metric&include=days&key={api_key}&contentType=json\"\n",
    "    \n",
    "    try:\n",
    "        response = requests.get(url, timeout=10)\n",
    "        response.raise_for_status()  # Raise an error for bad responses (4xx, 5xx)\n",
    "        data = response.json()\n",
    "        \n",
    "        weather_data = []\n",
    "        for entry in data.get(\"days\", []):\n",
    "            weather_data.append({\n",
    "                \"city\": city,\n",
    "                \"date\": entry[\"datetime\"],\n",
    "                \"tempmax\": entry.get(\"tempmax\", \"N/A\"),\n",
    "                \"tempmin\": entry.get(\"tempmin\", \"N/A\"),\n",
    "                \"humidity\": entry.get(\"humidity\", \"N/A\"),\n",
    "                \"windspeed\": entry.get(\"windspeed\", \"N/A\")\n",
    "            })\n",
    "        return weather_data\n",
    "    \n",
    "    except requests.exceptions.RequestException as e:\n",
    "        print(f\"Error fetching data for {city}: {e}\")\n",
    "        return []\n",
    "\n",
    "# Get user input for multiple cities\n",
    "city_input = input(\"Enter city names separated by commas: \")\n",
    "cities = [city.strip() for city in city_input.split(\",\")]\n",
    "\n",
    "# Fetch data for all cities\n",
    "all_weather_data = []\n",
    "for city in cities:\n",
    "    weather_info = fetch_weather(city)\n",
    "    if weather_info:  # Only add data if it's successfully fetched\n",
    "        all_weather_data.extend(weather_info)\n",
    "\n",
    "# Convert to DataFrame and save as CSV\n",
    "if all_weather_data:\n",
    "    df = pd.DataFrame(all_weather_data)\n",
    "    df.to_csv(\"weather_data.csv\", index=False)\n",
    "    print(\"Weather data saved to weather_data.csv\")\n",
    "    print(df)\n",
    "else:\n",
    "    print(\"No weather data was fetched. Check API key and city names.\")\n"
   ]
  },
  {
   "cell_type": "code",
   "execution_count": 6,
   "id": "65e94dca-4c6b-43d9-9334-f483be675685",
   "metadata": {},
   "outputs": [
    {
     "name": "stdout",
     "output_type": "stream",
     "text": [
      "Mean Absolute Error: 3.3302499999999924\n",
      "Model saved successfully!\n"
     ]
    }
   ],
   "source": [
    "import pandas as pd\n",
    "import numpy as np\n",
    "from sklearn.model_selection import train_test_split\n",
    "from sklearn.ensemble import RandomForestRegressor\n",
    "from sklearn.metrics import mean_absolute_error\n",
    "import pickle\n",
    "\n",
    "# Load dataset\n",
    "df = pd.read_csv(\"weather_data.csv\")\n",
    "\n",
    "# Convert date to numerical features\n",
    "df[\"date\"] = pd.to_datetime(df[\"date\"])\n",
    "df[\"day\"] = df[\"date\"].dt.day\n",
    "df[\"month\"] = df[\"date\"].dt.month\n",
    "df[\"year\"] = df[\"date\"].dt.year\n",
    "\n",
    "# Encode city names\n",
    "df[\"city\"] = df[\"city\"].astype(\"category\").cat.codes  # Convert cities to numbers\n",
    "\n",
    "# Define features and target\n",
    "X = df[[\"city\", \"day\", \"month\", \"year\"]]\n",
    "y = df[[\"tempmax\", \"tempmin\", \"humidity\", \"windspeed\"]]  # Multi-output regression\n",
    "\n",
    "# Split dataset\n",
    "X_train, X_test, y_train, y_test = train_test_split(X, y, test_size=0.2, random_state=42)\n",
    "\n",
    "# Train Random Forest model\n",
    "model = RandomForestRegressor(n_estimators=100, random_state=42)\n",
    "model.fit(X_train, y_train)\n",
    "\n",
    "# Evaluate model\n",
    "predictions = model.predict(X_test)\n",
    "mae = mean_absolute_error(y_test, predictions)\n",
    "print(f\"Mean Absolute Error: {mae}\")\n",
    "\n",
    "# Save model\n",
    "with open(\"weather_model.pkl\", \"wb\") as file:\n",
    "    pickle.dump(model, file)\n",
    "print(\"Model saved successfully!\")\n"
   ]
  },
  {
   "cell_type": "code",
   "execution_count": 7,
   "id": "29a05508-3fbf-4e64-ae3a-730a7a150da6",
   "metadata": {},
   "outputs": [
    {
     "name": "stdout",
     "output_type": "stream",
     "text": [
      "True\n"
     ]
    }
   ],
   "source": [
    "import os\n",
    "print(os.path.exists(\"weather_model.pkl\"))  # Should return True\n"
   ]
  },
  {
   "cell_type": "code",
   "execution_count": 8,
   "id": "4925af74-112c-4b61-b1d8-918309018b47",
   "metadata": {},
   "outputs": [
    {
     "name": "stdout",
     "output_type": "stream",
     "text": [
      "File moved successfully!\n"
     ]
    }
   ],
   "source": [
    "import shutil\n",
    "\n",
    "# Define source and destination paths\n",
    "source_path = \"weather_model.pkl\"  # Current location\n",
    "destination_path = \"data_visualization_project/weather_model.pkl\"  # New folder\n",
    "\n",
    "# Move the file\n",
    "shutil.move(source_path, destination_path)\n",
    "\n",
    "print(\"File moved successfully!\")\n"
   ]
  },
  {
   "cell_type": "code",
   "execution_count": 12,
   "id": "202e3f8c-936c-4679-b64e-45264e40193d",
   "metadata": {},
   "outputs": [
    {
     "name": "stdout",
     "output_type": "stream",
     "text": [
      "✅ Folder already exists: data_visualization_project\n",
      "data_visualization_project\n"
     ]
    }
   ],
   "source": [
    "import os\n",
    "\n",
    "# Define the destination folder\n",
    "destination_folder = \"data_visualization_project\"\n",
    "\n",
    "# Create the folder if it doesn't exist\n",
    "if not os.path.exists(destination_folder):\n",
    "    os.makedirs(destination_folder)\n",
    "    print(f\"✅ Created folder: {destination_folder}\")\n",
    "else:\n",
    "    print(f\"✅ Folder already exists: {destination_folder}\")\n",
    "\n",
    "print(destination_folder)\n"
   ]
  },
  {
   "cell_type": "code",
   "execution_count": 10,
   "id": "a375b0f9-419e-43f3-898b-dc5f33968255",
   "metadata": {},
   "outputs": [
    {
     "ename": "FileNotFoundError",
     "evalue": "[WinError 2] The system cannot find the file specified",
     "output_type": "error",
     "traceback": [
      "\u001b[1;31m---------------------------------------------------------------------------\u001b[0m",
      "\u001b[1;31mFileNotFoundError\u001b[0m                         Traceback (most recent call last)",
      "File \u001b[1;32m~\\anaconda3\\Lib\\shutil.py:847\u001b[0m, in \u001b[0;36mmove\u001b[1;34m(src, dst, copy_function)\u001b[0m\n\u001b[0;32m    846\u001b[0m \u001b[38;5;28;01mtry\u001b[39;00m:\n\u001b[1;32m--> 847\u001b[0m     os\u001b[38;5;241m.\u001b[39mrename(src, real_dst)\n\u001b[0;32m    848\u001b[0m \u001b[38;5;28;01mexcept\u001b[39;00m \u001b[38;5;167;01mOSError\u001b[39;00m:\n",
      "\u001b[1;31mFileNotFoundError\u001b[0m: [WinError 2] The system cannot find the file specified: 'weather_model.pkl' -> 'data_visualization_project\\\\weather_model.pkl'",
      "\nDuring handling of the above exception, another exception occurred:\n",
      "\u001b[1;31mFileNotFoundError\u001b[0m                         Traceback (most recent call last)",
      "Cell \u001b[1;32mIn[10], line 8\u001b[0m\n\u001b[0;32m      5\u001b[0m destination_path \u001b[38;5;241m=\u001b[39m os\u001b[38;5;241m.\u001b[39mpath\u001b[38;5;241m.\u001b[39mjoin(destination_folder, \u001b[38;5;124m\"\u001b[39m\u001b[38;5;124mweather_model.pkl\u001b[39m\u001b[38;5;124m\"\u001b[39m)\n\u001b[0;32m      7\u001b[0m \u001b[38;5;66;03m# Move the file\u001b[39;00m\n\u001b[1;32m----> 8\u001b[0m shutil\u001b[38;5;241m.\u001b[39mmove(source_path, destination_path)\n\u001b[0;32m     10\u001b[0m \u001b[38;5;28mprint\u001b[39m(\u001b[38;5;124m\"\u001b[39m\u001b[38;5;124m✅ File moved successfully!\u001b[39m\u001b[38;5;124m\"\u001b[39m)\n",
      "File \u001b[1;32m~\\anaconda3\\Lib\\shutil.py:867\u001b[0m, in \u001b[0;36mmove\u001b[1;34m(src, dst, copy_function)\u001b[0m\n\u001b[0;32m    865\u001b[0m         rmtree(src)\n\u001b[0;32m    866\u001b[0m     \u001b[38;5;28;01melse\u001b[39;00m:\n\u001b[1;32m--> 867\u001b[0m         copy_function(src, real_dst)\n\u001b[0;32m    868\u001b[0m         os\u001b[38;5;241m.\u001b[39munlink(src)\n\u001b[0;32m    869\u001b[0m \u001b[38;5;28;01mreturn\u001b[39;00m real_dst\n",
      "File \u001b[1;32m~\\anaconda3\\Lib\\shutil.py:460\u001b[0m, in \u001b[0;36mcopy2\u001b[1;34m(src, dst, follow_symlinks)\u001b[0m\n\u001b[0;32m    458\u001b[0m     flags \u001b[38;5;241m|\u001b[39m\u001b[38;5;241m=\u001b[39m _winapi\u001b[38;5;241m.\u001b[39mCOPY_FILE_COPY_SYMLINK\n\u001b[0;32m    459\u001b[0m \u001b[38;5;28;01mtry\u001b[39;00m:\n\u001b[1;32m--> 460\u001b[0m     _winapi\u001b[38;5;241m.\u001b[39mCopyFile2(src_, dst_, flags)\n\u001b[0;32m    461\u001b[0m     \u001b[38;5;28;01mreturn\u001b[39;00m dst\n\u001b[0;32m    462\u001b[0m \u001b[38;5;28;01mexcept\u001b[39;00m \u001b[38;5;167;01mOSError\u001b[39;00m \u001b[38;5;28;01mas\u001b[39;00m exc:\n",
      "\u001b[1;31mFileNotFoundError\u001b[0m: [WinError 2] The system cannot find the file specified"
     ]
    }
   ],
   "source": [
    "import shutil\n",
    "\n",
    "# Define source and destination paths\n",
    "source_path = \"weather_model.pkl\"  # Update if file is in another location\n",
    "destination_path = os.path.join(destination_folder, \"weather_model.pkl\")\n",
    "\n",
    "# Move the file\n",
    "shutil.move(source_path, destination_path)\n",
    "\n",
    "print(\"✅ File moved successfully!\")\n"
   ]
  },
  {
   "cell_type": "code",
   "execution_count": 11,
   "id": "14edb2c0-66ae-4f5c-95b6-89a0aaadbfd9",
   "metadata": {},
   "outputs": [
    {
     "name": "stdout",
     "output_type": "stream",
     "text": [
      "['venv', 'weather_model.pkl']\n"
     ]
    }
   ],
   "source": [
    "print(os.listdir(\"data_visualization_project\"))  # Should list 'weather_model.pkl'\n"
   ]
  },
  {
   "cell_type": "code",
   "execution_count": null,
   "id": "dfa1ca4b-23b0-4b9a-9fff-fbd15f9f36ab",
   "metadata": {},
   "outputs": [],
   "source": []
  }
 ],
 "metadata": {
  "kernelspec": {
   "display_name": "Python 3 (ipykernel)",
   "language": "python",
   "name": "python3"
  },
  "language_info": {
   "codemirror_mode": {
    "name": "ipython",
    "version": 3
   },
   "file_extension": ".py",
   "mimetype": "text/x-python",
   "name": "python",
   "nbconvert_exporter": "python",
   "pygments_lexer": "ipython3",
   "version": "3.12.4"
  }
 },
 "nbformat": 4,
 "nbformat_minor": 5
}
